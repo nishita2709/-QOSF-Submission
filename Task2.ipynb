{
 "cells": [
  {
   "cell_type": "code",
   "execution_count": 22,
   "id": "306698f6",
   "metadata": {},
   "outputs": [
    {
     "name": "stdout",
     "output_type": "stream",
     "text": [
      "Using matplotlib backend: QtAgg\n"
     ]
    }
   ],
   "source": [
    "#imports necessary modules from Qiskit for quantum circuit construction, simulation, and visualization.\n",
    "from qiskit import QuantumRegister, ClassicalRegister, QuantumCircuit\n",
    "from qiskit.circuit.library import IntegerComparator\n",
    "from qiskit import QuantumCircuit, transpile\n",
    "from qiskit.circuit.library import IntegerComparator\n",
    "from qiskit_aer import Aer\n",
    "import math\n",
    "from qiskit.visualization import *\n",
    "%matplotlib\n",
    "import numpy as np"
   ]
  },
  {
   "cell_type": "code",
   "execution_count": 31,
   "id": "00c40e73",
   "metadata": {},
   "outputs": [],
   "source": [
    "#computes the power of 2 that is closest to the given number n.\n",
    "def represent_as_power_of_2(n):\n",
    "    if n > 0 and (n & (n - 1)) == 0:\n",
    "        power = math.floor(math.log2(n)) - 1\n",
    "    else:\n",
    "        power = math.floor(math.log2(n)) + 1 \n",
    "    return power\n",
    "\n",
    "#converts each element in the list lst into its binary representation with padding zeros \n",
    "#to match the length of the binary representation of n.\n",
    "def convert_to_binary_with_padding(n, lst):\n",
    "    binary_lst = [bin(x)[2:] for x in lst]\n",
    "    max_len = len(bin(n)[2:])\n",
    "    binary_lst = [x.zfill(max_len) for x in binary_lst]\n",
    "    return binary_lst\n",
    "\n",
    "#reverses each string in the provided array.\n",
    "def flip_strings_in_array(string_array):\n",
    "    flipped_array = [string[::-1] for string in string_array]\n",
    "    return flipped_array\n",
    "\n",
    "#executes the given quantum circuit on a simulator backend and returns the counts of measurement outcomes.\n",
    "def execute_quantum_circuit(qc, shots=1024):\n",
    "    simulator = Aer.get_backend('qasm_simulator')\n",
    "    compiled_circuit = transpile(qc, simulator)\n",
    "    result = simulator.run(compiled_circuit, shots=shots).result()\n",
    "    return result.get_counts()\n",
    "    \n",
    "\n",
    "def odd_to_even(n, lst):\n",
    "\n",
    "    output_array =[]\n",
    "\n",
    "    \n",
    "    #It converts each number in the list into its binary representation, flips it, \n",
    "    #and prepares a quantum circuit for each binary string.\n",
    "    \n",
    "    binary_converted = flip_strings_in_array(convert_to_binary_with_padding(n, lst))\n",
    "\n",
    "    \n",
    "    \n",
    "    \n",
    "    for i in range(len(lst)):\n",
    "        qc = QuantumCircuit(k,k)\n",
    "        for j in range(k):\n",
    "            qc.h(j)   #It applies Hadamard gates to all qubits to create a superposition of all possible states.\n",
    "        qc.h(0)       #It applies an additional Hadamard gate to the least significant qubit.\n",
    "        qc.barrier()  #It adds a barrier to separate initialization from computation.\n",
    "        for j in range(len(binary_converted[i])):\n",
    "            if binary_converted[i][j] == '1':\n",
    "                qc.x(j)  #It applies X gates to flip the qubits based on the binary representation of the current element.\n",
    "        qc.barrier()\n",
    "        \n",
    "    #It measures all qubits (qc.measure([j], [j])) and adds a barrier after each measurement.\n",
    "        for j in range(k):\n",
    "            qc.measure([j], [j])\n",
    "            qc.barrier()\n",
    "           \n",
    "        counts = execute_quantum_circuit(qc)\n",
    "        \n",
    "        \n",
    "        \n",
    "    #For each quantum circuit, it measures the qubits and checks if the measurement outcome corresponds to an even number. \n",
    "    #If so, it appends the corresponding number from the input list to the output_array. \n",
    "    #Otherwise, it performs additional quantum operations to determine whether to add or subtract 1 from the number \n",
    "    #and appends the result to the output_array.\n",
    "\n",
    "        empty_counts = '0' * k\n",
    "        if empty_counts in counts:\n",
    "            output_array.append(lst[i])\n",
    "        else: \n",
    "            qc1 = QuantumCircuit(1,1)\n",
    "            qc1.h(0)\n",
    "            qc1.measure([0], [0])\n",
    "            counts_1 = execute_quantum_circuit(qc1, shots=1)\n",
    "            if int(str(counts_1)[2]) == 0:\n",
    "                output_array.append(lst[i] + 1)\n",
    "            elif int(str(counts_1)[2]) == 1:\n",
    "                output_array.append(lst[i] + 1 if lst[i] == 1 else lst[i] - 1)\n",
    "    \n",
    "    print(qc)\n",
    "    return output_array\n",
    "\n"
   ]
  },
  {
   "cell_type": "code",
   "execution_count": 32,
   "id": "bd1d4b7a",
   "metadata": {},
   "outputs": [
    {
     "name": "stdout",
     "output_type": "stream",
     "text": [
      "     ┌───┐┌───┐ ░ ┌───┐ ░ ┌─┐ ░     ░     ░     ░     ░ \n",
      "q_0: ┤ H ├┤ H ├─░─┤ X ├─░─┤M├─░─────░─────░─────░─────░─\n",
      "     ├───┤└───┘ ░ ├───┤ ░ └╥┘ ░ ┌─┐ ░     ░     ░     ░ \n",
      "q_1: ┤ H ├──────░─┤ X ├─░──╫──░─┤M├─░─────░─────░─────░─\n",
      "     ├───┤      ░ ├───┤ ░  ║  ░ └╥┘ ░ ┌─┐ ░     ░     ░ \n",
      "q_2: ┤ H ├──────░─┤ X ├─░──╫──░──╫──░─┤M├─░─────░─────░─\n",
      "     ├───┤      ░ └───┘ ░  ║  ░  ║  ░ └╥┘ ░ ┌─┐ ░     ░ \n",
      "q_3: ┤ H ├──────░───────░──╫──░──╫──░──╫──░─┤M├─░─────░─\n",
      "     ├───┤      ░ ┌───┐ ░  ║  ░  ║  ░  ║  ░ └╥┘ ░ ┌─┐ ░ \n",
      "q_4: ┤ H ├──────░─┤ X ├─░──╫──░──╫──░──╫──░──╫──░─┤M├─░─\n",
      "     └───┘      ░ └───┘ ░  ║  ░  ║  ░  ║  ░  ║  ░ └╥┘ ░ \n",
      "c: 5/══════════════════════╩═════╩═════╩═════╩═════╩════\n",
      "                           0     1     2     3     4    \n",
      "[2, 2, 2, 4, 4, 6, 8, 10, 16, 20, 22, 24]\n"
     ]
    }
   ],
   "source": [
    "#It initializes n and lst variables.\n",
    "n = 31\n",
    "lst = [1,2,2,4,5,6,7,11,17,21,22,23]\n",
    "\n",
    "#computes the number of qubits required for the quantum circuit based on n.\n",
    "k = represent_as_power_of_2(n)\n",
    "\n",
    "#calls the odd_to_even function with the provided inputs and prints the result.\n",
    "ote = odd_to_even(n,lst)\n",
    "print(ote)"
   ]
  },
  {
   "cell_type": "code",
   "execution_count": null,
   "id": "668fa0cc",
   "metadata": {},
   "outputs": [],
   "source": []
  }
 ],
 "metadata": {
  "kernelspec": {
   "display_name": "Python 3 (ipykernel)",
   "language": "python",
   "name": "python3"
  },
  "language_info": {
   "codemirror_mode": {
    "name": "ipython",
    "version": 3
   },
   "file_extension": ".py",
   "mimetype": "text/x-python",
   "name": "python",
   "nbconvert_exporter": "python",
   "pygments_lexer": "ipython3",
   "version": "3.9.12"
  }
 },
 "nbformat": 4,
 "nbformat_minor": 5
}
